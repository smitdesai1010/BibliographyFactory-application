{
  "nbformat": 4,
  "nbformat_minor": 0,
  "metadata": {
    "colab": {
      "name": "COVID-19 Detection.ipynb",
      "provenance": [],
      "collapsed_sections": [],
      "authorship_tag": "ABX9TyOBs+AR1I2VX2+8k8ZqN6DS",
      "include_colab_link": true
    },
    "kernelspec": {
      "name": "python3",
      "display_name": "Python 3"
    },
    "accelerator": "GPU"
  },
  "cells": [
    {
      "cell_type": "markdown",
      "metadata": {
        "id": "view-in-github",
        "colab_type": "text"
      },
      "source": [
        "<a href=\"https://colab.research.google.com/github/smitdesai1010/BibliographyFactory-application/blob/master/COVID_19_Detection.ipynb\" target=\"_parent\"><img src=\"https://colab.research.google.com/assets/colab-badge.svg\" alt=\"Open In Colab\"/></a>"
      ]
    },
    {
      "cell_type": "code",
      "metadata": {
        "id": "xBvkV4cSLxiS",
        "colab_type": "code",
        "colab": {
          "base_uri": "https://localhost:8080/",
          "height": 108
        },
        "outputId": "199a32cb-2c2a-4ca6-8adb-2c2bd1e257b0"
      },
      "source": [
        "import json\n",
        "import os\n",
        "import shutil\n",
        "import zipfile\n",
        "\n",
        "!echo > /content/kaggle.json\n",
        "\n",
        "token = {\"username\":\"smitdesai1010\",\"key\":\"41f928f2f4a0f0b462ed2ec45f383c82\"}\n",
        "with open('/content/kaggle.json', 'w') as file:\n",
        "    json.dump(token, file)\n",
        "\n",
        "!cp /content/kaggle.json ~/.kaggle/kaggle.json\n",
        "\n",
        "!kaggle config set -n path -v /content\n",
        "!chmod 600 /root/.kaggle/kaggle.json\n",
        "\n",
        "!kaggle datasets download -d amanullahasraf/covid19-pneumonia-normal-chest-xray-pa-dataset\n",
        "\n",
        "zf = zipfile.ZipFile('/content/datasets/amanullahasraf/covid19-pneumonia-normal-chest-xray-pa-dataset/covid19-pneumonia-normal-chest-xray-pa-dataset.zip') \n",
        "zf.extractall()\n",
        "\n",
        "!rm -rf 'datasets' #Deleting the the downloaded Zip files after extracting it \n",
        "\n",
        "\n",
        "def create_dataset(name):\n",
        "  org_path = '/content/'+ name\n",
        "  train_path = '/content/train/'+ name\n",
        "  val_path = '/content/validation/'+ name\n",
        "  test_path = '/content/test/'+ name\n",
        "\n",
        "  if not os.path.exists(train_path):\n",
        "    os.mkdir(train_path)\n",
        "    os.mkdir(val_path)\n",
        "    os.mkdir(test_path)\n",
        "\n",
        "  path, dirs, files = next(os.walk(org_path))\n",
        "  file_count = len(files)\n",
        "  i = 0  \n",
        "    \n",
        "  for file in os.listdir(org_path):\n",
        "    \n",
        "    if not os.path.isfile(os.path.join(org_path,file)):\n",
        "      continue\n",
        "\n",
        "    if i < file_count*0.75:\n",
        "     shutil.copy2(os.path.join(org_path,file), os.path.join(train_path,file))\n",
        "    \n",
        "    elif i > file_count*0.9:\n",
        "     shutil.copy2(os.path.join(org_path,file), os.path.join(test_path,file))\n",
        "\n",
        "    else:\n",
        "     shutil.copy2(os.path.join(org_path,file), os.path.join(val_path,file))\n",
        "     \n",
        "    i = i + 1 \n",
        "\n",
        "\n",
        "\n",
        "if not os.path.exists('/content/train'):\n",
        "  !mkdir /content/train\n",
        "  !mkdir /content/validation\n",
        "  !mkdir /content/test\n",
        " \n",
        "create_dataset('covid')\n",
        "create_dataset('normal')\n",
        "create_dataset('pneumonia')\n",
        "\n",
        "!rm -rf 'covid'\n",
        "!rm -rf 'normal'\n",
        "!rm -rf 'pneumonia'"
      ],
      "execution_count": 2,
      "outputs": [
        {
          "output_type": "stream",
          "text": [
            "Warning: Your Kaggle API key is readable by other users on this system! To fix this, you can run 'chmod 600 /root/.kaggle/kaggle.json'\n",
            "- path is now set to: /content\n",
            "Downloading covid19-pneumonia-normal-chest-xray-pa-dataset.zip to /content/datasets/amanullahasraf/covid19-pneumonia-normal-chest-xray-pa-dataset\n",
            "100% 1.90G/1.91G [00:37<00:00, 70.6MB/s]\n",
            "100% 1.91G/1.91G [00:37<00:00, 54.6MB/s]\n"
          ],
          "name": "stdout"
        }
      ]
    },
    {
      "cell_type": "markdown",
      "metadata": {
        "id": "sJ65KCjpo5lg",
        "colab_type": "text"
      },
      "source": [
        "https://medium.com/@mrgarg.rajat/training-on-large-datasets-that-dont-fit-in-memory-in-keras-60a974785d71"
      ]
    },
    {
      "cell_type": "code",
      "metadata": {
        "id": "xyCkHxKEbcjv",
        "colab_type": "code",
        "colab": {}
      },
      "source": [
        "import tensorflow as tf\n",
        "import cv2\n",
        "\n",
        "import matplotlib.pyplot as plt\n",
        "import numpy as np\n",
        "\n",
        "from keras import backend as K\n",
        "from keras.models import Sequential\n",
        "from keras.layers import Dense\n",
        "from keras.optimizers import Adam,SGD,Adagrad,Adadelta,RMSprop\n",
        "\n",
        "# specifically for cnn\n",
        "from keras.layers import Dropout, Flatten,Activation\n",
        "from keras.layers import Conv2D, MaxPooling2D, BatchNormalization\n",
        "\n",
        "from keras.preprocessing.image import ImageDataGenerator"
      ],
      "execution_count": 3,
      "outputs": []
    },
    {
      "cell_type": "code",
      "metadata": {
        "id": "TrYunscrEdMl",
        "colab_type": "code",
        "colab": {
          "base_uri": "https://localhost:8080/",
          "height": 72
        },
        "outputId": "ecf09edc-c40e-44d1-a714-c37de0e955cb"
      },
      "source": [
        "img_dim = 128\n",
        "batch_size = 64\n",
        "\n",
        "train_generator = ImageDataGenerator(\n",
        "    rescale = 1. / 255 ,\n",
        "    horizontal_flip = True\n",
        ")\n",
        "\n",
        "val_generator = ImageDataGenerator(\n",
        "    rescale = 1. / 255 ,\n",
        "    horizontal_flip = True\n",
        ")\n",
        "\n",
        "test_generator = ImageDataGenerator(\n",
        "    rescale = 1. / 255 ,\n",
        "    horizontal_flip = True\n",
        ")\n",
        "\n",
        "train_data = train_generator.flow_from_directory(\n",
        "    '/content/train' ,\n",
        "    target_size = (img_dim,img_dim) ,\n",
        "    batch_size = batch_size ,\n",
        ")\n",
        "\n",
        "val_data = val_generator.flow_from_directory(\n",
        "    '/content/validation' ,\n",
        "    target_size = (img_dim,img_dim) ,\n",
        "    batch_size = batch_size ,\n",
        ")\n",
        "\n",
        "test_data = test_generator.flow_from_directory(\n",
        "    '/content/test' ,\n",
        "    target_size = (img_dim,img_dim) ,\n",
        "    batch_size = batch_size ,\n",
        ")"
      ],
      "execution_count": 24,
      "outputs": [
        {
          "output_type": "stream",
          "text": [
            "Found 5172 images belonging to 3 classes.\n",
            "Found 1039 images belonging to 3 classes.\n",
            "Found 691 images belonging to 3 classes.\n"
          ],
          "name": "stdout"
        }
      ]
    },
    {
      "cell_type": "code",
      "metadata": {
        "id": "4Y53PCUKHD4x",
        "colab_type": "code",
        "colab": {
          "base_uri": "https://localhost:8080/",
          "height": 454
        },
        "outputId": "d4cd42cf-fcba-474b-ee3a-98821b92eca1"
      },
      "source": [
        "if K.image_data_format() == 'channels_first':\n",
        "    input_shape = (3, img_dim, img_dim)\n",
        "else:\n",
        "    input_shape = (img_dim, img_dim, 3)\n",
        "\n",
        "model=tf.keras.models.Sequential([\n",
        "                                  \n",
        "tf.keras.layers.Conv2D(32,(3,3),activation='relu',input_shape=input_shape),\n",
        "tf.keras.layers.MaxPool2D(pool_size=(2,2)),\n",
        "\n",
        "tf.keras.layers.Conv2D(16,(3,3),activation='relu'),\n",
        "tf.keras.layers.BatchNormalization(),\n",
        "tf.keras.layers.MaxPool2D(pool_size=(3,3)),\n",
        "\n",
        "tf.keras.layers.Flatten(),\n",
        "tf.keras.layers.Dense(16,activation='relu'),\n",
        "tf.keras.layers.Dense(3,activation='sigmoid')                                 \n",
        "                                  \n",
        "])\n",
        "\n",
        "model.compile(optimizer='adam',loss='categorical_crossentropy',metrics=['accuracy'])\n",
        "model.summary()"
      ],
      "execution_count": 25,
      "outputs": [
        {
          "output_type": "stream",
          "text": [
            "Model: \"sequential_8\"\n",
            "_________________________________________________________________\n",
            "Layer (type)                 Output Shape              Param #   \n",
            "=================================================================\n",
            "conv2d_24 (Conv2D)           (None, 126, 126, 32)      896       \n",
            "_________________________________________________________________\n",
            "max_pooling2d_24 (MaxPooling (None, 63, 63, 32)        0         \n",
            "_________________________________________________________________\n",
            "conv2d_25 (Conv2D)           (None, 61, 61, 16)        4624      \n",
            "_________________________________________________________________\n",
            "batch_normalization_12 (Batc (None, 61, 61, 16)        64        \n",
            "_________________________________________________________________\n",
            "max_pooling2d_25 (MaxPooling (None, 20, 20, 16)        0         \n",
            "_________________________________________________________________\n",
            "flatten_8 (Flatten)          (None, 6400)              0         \n",
            "_________________________________________________________________\n",
            "dense_21 (Dense)             (None, 16)                102416    \n",
            "_________________________________________________________________\n",
            "dense_22 (Dense)             (None, 3)                 51        \n",
            "=================================================================\n",
            "Total params: 108,051\n",
            "Trainable params: 108,019\n",
            "Non-trainable params: 32\n",
            "_________________________________________________________________\n"
          ],
          "name": "stdout"
        }
      ]
    },
    {
      "cell_type": "code",
      "metadata": {
        "id": "0UuXIPQgHwxe",
        "colab_type": "code",
        "colab": {
          "base_uri": "https://localhost:8080/",
          "height": 581
        },
        "outputId": "9500f6c8-ef97-4b44-8fd7-fa2936fd4400"
      },
      "source": [
        "model.fit(\n",
        "    train_data ,\n",
        "    steps_per_epoch = 5178/batch_size ,\n",
        "    epochs = 15 ,\n",
        "    validation_data=val_data ,\n",
        "    validation_steps = 1032/batch_size ,\n",
        "    verbose = 1 \n",
        ")"
      ],
      "execution_count": 27,
      "outputs": [
        {
          "output_type": "stream",
          "text": [
            "Epoch 1/15\n",
            "81/80 [==============================] - 79s 972ms/step - loss: 0.2264 - accuracy: 0.9230 - val_loss: 1.1202 - val_accuracy: 0.7247\n",
            "Epoch 2/15\n",
            "81/80 [==============================] - 79s 970ms/step - loss: 0.2012 - accuracy: 0.9329 - val_loss: 0.5721 - val_accuracy: 0.8219\n",
            "Epoch 3/15\n",
            "81/80 [==============================] - 78s 959ms/step - loss: 0.1986 - accuracy: 0.9310 - val_loss: 0.2941 - val_accuracy: 0.8999\n",
            "Epoch 4/15\n",
            "81/80 [==============================] - 77s 950ms/step - loss: 0.1687 - accuracy: 0.9437 - val_loss: 0.5757 - val_accuracy: 0.8268\n",
            "Epoch 5/15\n",
            "81/80 [==============================] - 77s 951ms/step - loss: 0.1634 - accuracy: 0.9457 - val_loss: 0.6843 - val_accuracy: 0.8162\n",
            "Epoch 6/15\n",
            "81/80 [==============================] - 77s 953ms/step - loss: 0.1501 - accuracy: 0.9470 - val_loss: 0.3344 - val_accuracy: 0.8999\n",
            "Epoch 7/15\n",
            "81/80 [==============================] - 78s 959ms/step - loss: 0.1307 - accuracy: 0.9549 - val_loss: 0.2927 - val_accuracy: 0.9153\n",
            "Epoch 8/15\n",
            "81/80 [==============================] - 78s 964ms/step - loss: 0.1285 - accuracy: 0.9522 - val_loss: 0.4857 - val_accuracy: 0.8826\n",
            "Epoch 9/15\n",
            "81/80 [==============================] - 78s 961ms/step - loss: 0.1213 - accuracy: 0.9555 - val_loss: 0.2916 - val_accuracy: 0.9172\n",
            "Epoch 10/15\n",
            "81/80 [==============================] - 78s 959ms/step - loss: 0.1182 - accuracy: 0.9569 - val_loss: 0.4305 - val_accuracy: 0.8903\n",
            "Epoch 11/15\n",
            "81/80 [==============================] - 78s 961ms/step - loss: 0.1262 - accuracy: 0.9544 - val_loss: 0.3623 - val_accuracy: 0.9172\n",
            "Epoch 12/15\n",
            "81/80 [==============================] - 78s 962ms/step - loss: 0.1047 - accuracy: 0.9615 - val_loss: 0.3687 - val_accuracy: 0.9009\n",
            "Epoch 13/15\n",
            "81/80 [==============================] - 79s 970ms/step - loss: 0.0905 - accuracy: 0.9654 - val_loss: 0.3891 - val_accuracy: 0.8980\n",
            "Epoch 14/15\n",
            "81/80 [==============================] - 78s 963ms/step - loss: 0.0957 - accuracy: 0.9633 - val_loss: 0.2973 - val_accuracy: 0.9192\n",
            "Epoch 15/15\n",
            "81/80 [==============================] - 78s 966ms/step - loss: 0.0967 - accuracy: 0.9658 - val_loss: 0.3753 - val_accuracy: 0.9028\n"
          ],
          "name": "stdout"
        },
        {
          "output_type": "execute_result",
          "data": {
            "text/plain": [
              "<tensorflow.python.keras.callbacks.History at 0x7f9d3d6555f8>"
            ]
          },
          "metadata": {
            "tags": []
          },
          "execution_count": 27
        }
      ]
    }
  ]
}